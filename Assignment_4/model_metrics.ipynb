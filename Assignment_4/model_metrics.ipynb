{
 "cells": [
  {
   "cell_type": "code",
   "execution_count": 1,
   "metadata": {},
   "outputs": [],
   "source": [
    "%matplotlib inline"
   ]
  },
  {
   "cell_type": "code",
   "execution_count": 2,
   "metadata": {},
   "outputs": [
    {
     "name": "stderr",
     "output_type": "stream",
     "text": [
      "c:\\programdata\\anaconda3\\lib\\site-packages\\h5py\\__init__.py:36: FutureWarning: Conversion of the second argument of issubdtype from `float` to `np.floating` is deprecated. In future, it will be treated as `np.float64 == np.dtype(float).type`.\n",
      "  from ._conv import register_converters as _register_converters\n",
      "Using TensorFlow backend.\n",
      "C:\\Users\\kruti\\Desktop\\ADS Class\\Assignment 4\\Assignment_4\\load_vectorize_data.py:42: SettingWithCopyWarning: \n",
      "A value is trying to be set on a copy of a slice from a DataFrame.\n",
      "Try using .loc[row_indexer,col_indexer] = value instead\n",
      "\n",
      "See the caveats in the documentation: http://pandas.pydata.org/pandas-docs/stable/indexing.html#indexing-view-versus-copy\n",
      "  df1['lyrics'] = df1['lyrics'].apply(lambda x : x.lower())\n",
      "C:\\Users\\kruti\\Desktop\\ADS Class\\Assignment 4\\Assignment_4\\load_vectorize_data.py:43: SettingWithCopyWarning: \n",
      "A value is trying to be set on a copy of a slice from a DataFrame.\n",
      "Try using .loc[row_indexer,col_indexer] = value instead\n",
      "\n",
      "See the caveats in the documentation: http://pandas.pydata.org/pandas-docs/stable/indexing.html#indexing-view-versus-copy\n",
      "  df2['lyrics'] = df2['lyrics'].apply(lambda y : y.lower())\n",
      "c:\\programdata\\anaconda3\\lib\\site-packages\\pandas\\core\\indexing.py:635: SettingWithCopyWarning: \n",
      "A value is trying to be set on a copy of a slice from a DataFrame.\n",
      "Try using .loc[row_indexer,col_indexer] = value instead\n",
      "\n",
      "See the caveats in the documentation: http://pandas.pydata.org/pandas-docs/stable/indexing.html#indexing-view-versus-copy\n",
      "  self.obj[item_labels[indexer[info_axis]]] = value\n",
      "C:\\Users\\kruti\\Desktop\\ADS Class\\Assignment 4\\Assignment_4\\load_vectorize_data.py:46: SettingWithCopyWarning: \n",
      "A value is trying to be set on a copy of a slice from a DataFrame.\n",
      "Try using .loc[row_indexer,col_indexer] = value instead\n",
      "\n",
      "See the caveats in the documentation: http://pandas.pydata.org/pandas-docs/stable/indexing.html#indexing-view-versus-copy\n",
      "  df1['lyrics'] = df1['lyrics'].apply(lambda x : re.sub('[\\n]',' ',x))\n",
      "C:\\Users\\kruti\\Desktop\\ADS Class\\Assignment 4\\Assignment_4\\load_vectorize_data.py:47: SettingWithCopyWarning: \n",
      "A value is trying to be set on a copy of a slice from a DataFrame.\n",
      "Try using .loc[row_indexer,col_indexer] = value instead\n",
      "\n",
      "See the caveats in the documentation: http://pandas.pydata.org/pandas-docs/stable/indexing.html#indexing-view-versus-copy\n",
      "  df2['lyrics'] = df2['lyrics'].apply(lambda x : re.sub('[\\n]',' ',x))\n",
      "C:\\Users\\kruti\\Desktop\\ADS Class\\Assignment 4\\Assignment_4\\load_vectorize_data.py:48: SettingWithCopyWarning: \n",
      "A value is trying to be set on a copy of a slice from a DataFrame.\n",
      "Try using .loc[row_indexer,col_indexer] = value instead\n",
      "\n",
      "See the caveats in the documentation: http://pandas.pydata.org/pandas-docs/stable/indexing.html#indexing-view-versus-copy\n",
      "  df1['lyrics'] = df1['lyrics'].apply(lambda x : x.lstrip(' '))\n",
      "C:\\Users\\kruti\\Desktop\\ADS Class\\Assignment 4\\Assignment_4\\load_vectorize_data.py:49: SettingWithCopyWarning: \n",
      "A value is trying to be set on a copy of a slice from a DataFrame.\n",
      "Try using .loc[row_indexer,col_indexer] = value instead\n",
      "\n",
      "See the caveats in the documentation: http://pandas.pydata.org/pandas-docs/stable/indexing.html#indexing-view-versus-copy\n",
      "  df2['lyrics'] = df2['lyrics'].apply(lambda x : x.lstrip(' '))\n",
      "C:\\Users\\kruti\\Desktop\\ADS Class\\Assignment 4\\Assignment_4\\load_vectorize_data.py:53: SettingWithCopyWarning: \n",
      "A value is trying to be set on a copy of a slice from a DataFrame.\n",
      "Try using .loc[row_indexer,col_indexer] = value instead\n",
      "\n",
      "See the caveats in the documentation: http://pandas.pydata.org/pandas-docs/stable/indexing.html#indexing-view-versus-copy\n",
      "  df1['lyrics'] = df1['lyrics'].apply(lambda x: \" \".join(x for x in x.split() if x not in stop))\n",
      "C:\\Users\\kruti\\Desktop\\ADS Class\\Assignment 4\\Assignment_4\\load_vectorize_data.py:54: SettingWithCopyWarning: \n",
      "A value is trying to be set on a copy of a slice from a DataFrame.\n",
      "Try using .loc[row_indexer,col_indexer] = value instead\n",
      "\n",
      "See the caveats in the documentation: http://pandas.pydata.org/pandas-docs/stable/indexing.html#indexing-view-versus-copy\n",
      "  df2['lyrics'] = df2['lyrics'].apply(lambda x: \" \".join(x for x in x.split() if x not in stop))\n",
      "C:\\Users\\kruti\\Desktop\\ADS Class\\Assignment 4\\Assignment_4\\load_vectorize_data.py:58: SettingWithCopyWarning: \n",
      "A value is trying to be set on a copy of a slice from a DataFrame.\n",
      "Try using .loc[row_indexer,col_indexer] = value instead\n",
      "\n",
      "See the caveats in the documentation: http://pandas.pydata.org/pandas-docs/stable/indexing.html#indexing-view-versus-copy\n",
      "  df1['lyrics'] = df1['lyrics'].apply(lambda x :\" \".join([lem.lemmatize(word) for word in x.split()]))\n",
      "C:\\Users\\kruti\\Desktop\\ADS Class\\Assignment 4\\Assignment_4\\load_vectorize_data.py:59: SettingWithCopyWarning: \n",
      "A value is trying to be set on a copy of a slice from a DataFrame.\n",
      "Try using .loc[row_indexer,col_indexer] = value instead\n",
      "\n",
      "See the caveats in the documentation: http://pandas.pydata.org/pandas-docs/stable/indexing.html#indexing-view-versus-copy\n",
      "  df2['lyrics'] = df2['lyrics'].apply(lambda x :\" \".join([lem.lemmatize(word) for word in x.split()]))\n",
      "C:\\Users\\kruti\\Desktop\\ADS Class\\Assignment 4\\Assignment_4\\load_vectorize_data.py:60: SettingWithCopyWarning: \n",
      "A value is trying to be set on a copy of a slice from a DataFrame.\n",
      "Try using .loc[row_indexer,col_indexer] = value instead\n",
      "\n",
      "See the caveats in the documentation: http://pandas.pydata.org/pandas-docs/stable/indexing.html#indexing-view-versus-copy\n",
      "  df1['lyrics'] = df1['lyrics'].apply(lambda x :\" \".join([lem.lemmatize(word, pos='a') for word in x.split()]))\n",
      "C:\\Users\\kruti\\Desktop\\ADS Class\\Assignment 4\\Assignment_4\\load_vectorize_data.py:61: SettingWithCopyWarning: \n",
      "A value is trying to be set on a copy of a slice from a DataFrame.\n",
      "Try using .loc[row_indexer,col_indexer] = value instead\n",
      "\n",
      "See the caveats in the documentation: http://pandas.pydata.org/pandas-docs/stable/indexing.html#indexing-view-versus-copy\n",
      "  df1['lyrics'] = df1['lyrics'].apply(lambda x :\" \".join([lem.lemmatize(word, pos='n') for word in x.split()]))\n",
      "C:\\Users\\kruti\\Desktop\\ADS Class\\Assignment 4\\Assignment_4\\load_vectorize_data.py:62: SettingWithCopyWarning: \n",
      "A value is trying to be set on a copy of a slice from a DataFrame.\n",
      "Try using .loc[row_indexer,col_indexer] = value instead\n",
      "\n",
      "See the caveats in the documentation: http://pandas.pydata.org/pandas-docs/stable/indexing.html#indexing-view-versus-copy\n",
      "  df1['lyrics'] = df1['lyrics'].apply(lambda x :\" \".join([lem.lemmatize(word, pos='v') for word in x.split()]))\n",
      "C:\\Users\\kruti\\Desktop\\ADS Class\\Assignment 4\\Assignment_4\\load_vectorize_data.py:63: SettingWithCopyWarning: \n",
      "A value is trying to be set on a copy of a slice from a DataFrame.\n",
      "Try using .loc[row_indexer,col_indexer] = value instead\n",
      "\n",
      "See the caveats in the documentation: http://pandas.pydata.org/pandas-docs/stable/indexing.html#indexing-view-versus-copy\n",
      "  df2['lyrics'] = df2['lyrics'].apply(lambda x :\" \".join([lem.lemmatize(word, pos='a') for word in x.split()]))\n",
      "C:\\Users\\kruti\\Desktop\\ADS Class\\Assignment 4\\Assignment_4\\load_vectorize_data.py:64: SettingWithCopyWarning: \n",
      "A value is trying to be set on a copy of a slice from a DataFrame.\n",
      "Try using .loc[row_indexer,col_indexer] = value instead\n",
      "\n",
      "See the caveats in the documentation: http://pandas.pydata.org/pandas-docs/stable/indexing.html#indexing-view-versus-copy\n",
      "  df2['lyrics'] = df2['lyrics'].apply(lambda x :\" \".join([lem.lemmatize(word, pos='n') for word in x.split()]))\n",
      "C:\\Users\\kruti\\Desktop\\ADS Class\\Assignment 4\\Assignment_4\\load_vectorize_data.py:65: SettingWithCopyWarning: \n",
      "A value is trying to be set on a copy of a slice from a DataFrame.\n",
      "Try using .loc[row_indexer,col_indexer] = value instead\n",
      "\n",
      "See the caveats in the documentation: http://pandas.pydata.org/pandas-docs/stable/indexing.html#indexing-view-versus-copy\n",
      "  df2['lyrics'] = df2['lyrics'].apply(lambda x :\" \".join([lem.lemmatize(word, pos='v') for word in x.split()]))\n",
      "c:\\programdata\\anaconda3\\lib\\site-packages\\sklearn\\feature_extraction\\text.py:1569: UserWarning: Only (<class 'numpy.float64'>, <class 'numpy.float32'>, <class 'numpy.float16'>) 'dtype' should be used. int32 'dtype' will be converted to np.float64.\n",
      "  UserWarning)\n"
     ]
    },
    {
     "name": "stdout",
     "output_type": "stream",
     "text": [
      "[[0. 0. 0. ... 0. 0. 0.]\n",
      " [0. 0. 0. ... 0. 0. 0.]\n",
      " [0. 0. 0. ... 0. 0. 0.]\n",
      " ...\n",
      " [0. 0. 0. ... 0. 0. 0.]\n",
      " [0. 0. 0. ... 0. 0. 0.]\n",
      " [0. 0. 0. ... 0. 0. 0.]]\n"
     ]
    },
    {
     "name": "stderr",
     "output_type": "stream",
     "text": [
      "c:\\programdata\\anaconda3\\lib\\site-packages\\sklearn\\linear_model\\logistic.py:433: FutureWarning: Default solver will be changed to 'lbfgs' in 0.22. Specify a solver to silence this warning.\n",
      "  FutureWarning)\n",
      "C:\\Users\\kruti\\Desktop\\ADS Class\\Assignment 4\\Assignment_4\\load_vectorize_data.py:42: SettingWithCopyWarning: \n",
      "A value is trying to be set on a copy of a slice from a DataFrame.\n",
      "Try using .loc[row_indexer,col_indexer] = value instead\n",
      "\n",
      "See the caveats in the documentation: http://pandas.pydata.org/pandas-docs/stable/indexing.html#indexing-view-versus-copy\n",
      "  df1['lyrics'] = df1['lyrics'].apply(lambda x : x.lower())\n",
      "C:\\Users\\kruti\\Desktop\\ADS Class\\Assignment 4\\Assignment_4\\load_vectorize_data.py:43: SettingWithCopyWarning: \n",
      "A value is trying to be set on a copy of a slice from a DataFrame.\n",
      "Try using .loc[row_indexer,col_indexer] = value instead\n",
      "\n",
      "See the caveats in the documentation: http://pandas.pydata.org/pandas-docs/stable/indexing.html#indexing-view-versus-copy\n",
      "  df2['lyrics'] = df2['lyrics'].apply(lambda y : y.lower())\n",
      "c:\\programdata\\anaconda3\\lib\\site-packages\\pandas\\core\\indexing.py:635: SettingWithCopyWarning: \n",
      "A value is trying to be set on a copy of a slice from a DataFrame.\n",
      "Try using .loc[row_indexer,col_indexer] = value instead\n",
      "\n",
      "See the caveats in the documentation: http://pandas.pydata.org/pandas-docs/stable/indexing.html#indexing-view-versus-copy\n",
      "  self.obj[item_labels[indexer[info_axis]]] = value\n",
      "C:\\Users\\kruti\\Desktop\\ADS Class\\Assignment 4\\Assignment_4\\load_vectorize_data.py:46: SettingWithCopyWarning: \n",
      "A value is trying to be set on a copy of a slice from a DataFrame.\n",
      "Try using .loc[row_indexer,col_indexer] = value instead\n",
      "\n",
      "See the caveats in the documentation: http://pandas.pydata.org/pandas-docs/stable/indexing.html#indexing-view-versus-copy\n",
      "  df1['lyrics'] = df1['lyrics'].apply(lambda x : re.sub('[\\n]',' ',x))\n",
      "C:\\Users\\kruti\\Desktop\\ADS Class\\Assignment 4\\Assignment_4\\load_vectorize_data.py:47: SettingWithCopyWarning: \n",
      "A value is trying to be set on a copy of a slice from a DataFrame.\n",
      "Try using .loc[row_indexer,col_indexer] = value instead\n",
      "\n",
      "See the caveats in the documentation: http://pandas.pydata.org/pandas-docs/stable/indexing.html#indexing-view-versus-copy\n",
      "  df2['lyrics'] = df2['lyrics'].apply(lambda x : re.sub('[\\n]',' ',x))\n",
      "C:\\Users\\kruti\\Desktop\\ADS Class\\Assignment 4\\Assignment_4\\load_vectorize_data.py:48: SettingWithCopyWarning: \n",
      "A value is trying to be set on a copy of a slice from a DataFrame.\n",
      "Try using .loc[row_indexer,col_indexer] = value instead\n",
      "\n",
      "See the caveats in the documentation: http://pandas.pydata.org/pandas-docs/stable/indexing.html#indexing-view-versus-copy\n",
      "  df1['lyrics'] = df1['lyrics'].apply(lambda x : x.lstrip(' '))\n",
      "C:\\Users\\kruti\\Desktop\\ADS Class\\Assignment 4\\Assignment_4\\load_vectorize_data.py:49: SettingWithCopyWarning: \n",
      "A value is trying to be set on a copy of a slice from a DataFrame.\n",
      "Try using .loc[row_indexer,col_indexer] = value instead\n",
      "\n",
      "See the caveats in the documentation: http://pandas.pydata.org/pandas-docs/stable/indexing.html#indexing-view-versus-copy\n",
      "  df2['lyrics'] = df2['lyrics'].apply(lambda x : x.lstrip(' '))\n",
      "C:\\Users\\kruti\\Desktop\\ADS Class\\Assignment 4\\Assignment_4\\load_vectorize_data.py:53: SettingWithCopyWarning: \n",
      "A value is trying to be set on a copy of a slice from a DataFrame.\n",
      "Try using .loc[row_indexer,col_indexer] = value instead\n",
      "\n",
      "See the caveats in the documentation: http://pandas.pydata.org/pandas-docs/stable/indexing.html#indexing-view-versus-copy\n",
      "  df1['lyrics'] = df1['lyrics'].apply(lambda x: \" \".join(x for x in x.split() if x not in stop))\n",
      "C:\\Users\\kruti\\Desktop\\ADS Class\\Assignment 4\\Assignment_4\\load_vectorize_data.py:54: SettingWithCopyWarning: \n",
      "A value is trying to be set on a copy of a slice from a DataFrame.\n",
      "Try using .loc[row_indexer,col_indexer] = value instead\n",
      "\n",
      "See the caveats in the documentation: http://pandas.pydata.org/pandas-docs/stable/indexing.html#indexing-view-versus-copy\n",
      "  df2['lyrics'] = df2['lyrics'].apply(lambda x: \" \".join(x for x in x.split() if x not in stop))\n",
      "C:\\Users\\kruti\\Desktop\\ADS Class\\Assignment 4\\Assignment_4\\load_vectorize_data.py:58: SettingWithCopyWarning: \n",
      "A value is trying to be set on a copy of a slice from a DataFrame.\n",
      "Try using .loc[row_indexer,col_indexer] = value instead\n",
      "\n",
      "See the caveats in the documentation: http://pandas.pydata.org/pandas-docs/stable/indexing.html#indexing-view-versus-copy\n",
      "  df1['lyrics'] = df1['lyrics'].apply(lambda x :\" \".join([lem.lemmatize(word) for word in x.split()]))\n",
      "C:\\Users\\kruti\\Desktop\\ADS Class\\Assignment 4\\Assignment_4\\load_vectorize_data.py:59: SettingWithCopyWarning: \n",
      "A value is trying to be set on a copy of a slice from a DataFrame.\n",
      "Try using .loc[row_indexer,col_indexer] = value instead\n",
      "\n",
      "See the caveats in the documentation: http://pandas.pydata.org/pandas-docs/stable/indexing.html#indexing-view-versus-copy\n",
      "  df2['lyrics'] = df2['lyrics'].apply(lambda x :\" \".join([lem.lemmatize(word) for word in x.split()]))\n",
      "C:\\Users\\kruti\\Desktop\\ADS Class\\Assignment 4\\Assignment_4\\load_vectorize_data.py:60: SettingWithCopyWarning: \n",
      "A value is trying to be set on a copy of a slice from a DataFrame.\n",
      "Try using .loc[row_indexer,col_indexer] = value instead\n",
      "\n",
      "See the caveats in the documentation: http://pandas.pydata.org/pandas-docs/stable/indexing.html#indexing-view-versus-copy\n",
      "  df1['lyrics'] = df1['lyrics'].apply(lambda x :\" \".join([lem.lemmatize(word, pos='a') for word in x.split()]))\n",
      "C:\\Users\\kruti\\Desktop\\ADS Class\\Assignment 4\\Assignment_4\\load_vectorize_data.py:61: SettingWithCopyWarning: \n",
      "A value is trying to be set on a copy of a slice from a DataFrame.\n",
      "Try using .loc[row_indexer,col_indexer] = value instead\n",
      "\n",
      "See the caveats in the documentation: http://pandas.pydata.org/pandas-docs/stable/indexing.html#indexing-view-versus-copy\n",
      "  df1['lyrics'] = df1['lyrics'].apply(lambda x :\" \".join([lem.lemmatize(word, pos='n') for word in x.split()]))\n",
      "C:\\Users\\kruti\\Desktop\\ADS Class\\Assignment 4\\Assignment_4\\load_vectorize_data.py:62: SettingWithCopyWarning: \n",
      "A value is trying to be set on a copy of a slice from a DataFrame.\n",
      "Try using .loc[row_indexer,col_indexer] = value instead\n",
      "\n",
      "See the caveats in the documentation: http://pandas.pydata.org/pandas-docs/stable/indexing.html#indexing-view-versus-copy\n",
      "  df1['lyrics'] = df1['lyrics'].apply(lambda x :\" \".join([lem.lemmatize(word, pos='v') for word in x.split()]))\n",
      "C:\\Users\\kruti\\Desktop\\ADS Class\\Assignment 4\\Assignment_4\\load_vectorize_data.py:63: SettingWithCopyWarning: \n",
      "A value is trying to be set on a copy of a slice from a DataFrame.\n",
      "Try using .loc[row_indexer,col_indexer] = value instead\n",
      "\n",
      "See the caveats in the documentation: http://pandas.pydata.org/pandas-docs/stable/indexing.html#indexing-view-versus-copy\n",
      "  df2['lyrics'] = df2['lyrics'].apply(lambda x :\" \".join([lem.lemmatize(word, pos='a') for word in x.split()]))\n",
      "C:\\Users\\kruti\\Desktop\\ADS Class\\Assignment 4\\Assignment_4\\load_vectorize_data.py:64: SettingWithCopyWarning: \n",
      "A value is trying to be set on a copy of a slice from a DataFrame.\n",
      "Try using .loc[row_indexer,col_indexer] = value instead\n",
      "\n",
      "See the caveats in the documentation: http://pandas.pydata.org/pandas-docs/stable/indexing.html#indexing-view-versus-copy\n",
      "  df2['lyrics'] = df2['lyrics'].apply(lambda x :\" \".join([lem.lemmatize(word, pos='n') for word in x.split()]))\n",
      "C:\\Users\\kruti\\Desktop\\ADS Class\\Assignment 4\\Assignment_4\\load_vectorize_data.py:65: SettingWithCopyWarning: \n",
      "A value is trying to be set on a copy of a slice from a DataFrame.\n",
      "Try using .loc[row_indexer,col_indexer] = value instead\n",
      "\n",
      "See the caveats in the documentation: http://pandas.pydata.org/pandas-docs/stable/indexing.html#indexing-view-versus-copy\n",
      "  df2['lyrics'] = df2['lyrics'].apply(lambda x :\" \".join([lem.lemmatize(word, pos='v') for word in x.split()]))\n",
      "c:\\programdata\\anaconda3\\lib\\site-packages\\sklearn\\feature_extraction\\text.py:1569: UserWarning: Only (<class 'numpy.float64'>, <class 'numpy.float32'>, <class 'numpy.float16'>) 'dtype' should be used. int32 'dtype' will be converted to np.float64.\n",
      "  UserWarning)\n"
     ]
    },
    {
     "name": "stdout",
     "output_type": "stream",
     "text": [
      "[[0. 0. 0. ... 0. 0. 0.]\n",
      " [0. 0. 0. ... 0. 0. 0.]\n",
      " [0. 0. 0. ... 0. 0. 0.]\n",
      " ...\n",
      " [0. 0. 0. ... 0. 0. 0.]\n",
      " [0. 0. 0. ... 0. 0. 0.]\n",
      " [0. 0. 0. ... 0. 0. 0.]]\n",
      "WARNING:tensorflow:From c:\\programdata\\anaconda3\\lib\\site-packages\\tensorflow\\python\\framework\\op_def_library.py:263: colocate_with (from tensorflow.python.framework.ops) is deprecated and will be removed in a future version.\n",
      "Instructions for updating:\n",
      "Colocations handled automatically by placer.\n",
      "WARNING:tensorflow:From c:\\programdata\\anaconda3\\lib\\site-packages\\keras\\backend\\tensorflow_backend.py:3445: calling dropout (from tensorflow.python.ops.nn_ops) with keep_prob is deprecated and will be removed in a future version.\n",
      "Instructions for updating:\n",
      "Please use `rate` instead of `keep_prob`. Rate should be set to `rate = 1 - keep_prob`.\n",
      "_________________________________________________________________\n",
      "Layer (type)                 Output Shape              Param #   \n",
      "=================================================================\n",
      "dense_1 (Dense)              (None, 32)                412416    \n",
      "_________________________________________________________________\n",
      "dropout_1 (Dropout)          (None, 32)                0         \n",
      "_________________________________________________________________\n",
      "dense_2 (Dense)              (None, 32)                1056      \n",
      "_________________________________________________________________\n",
      "dropout_2 (Dropout)          (None, 32)                0         \n",
      "_________________________________________________________________\n",
      "dense_3 (Dense)              (None, 1)                 33        \n",
      "=================================================================\n",
      "Total params: 413,505\n",
      "Trainable params: 413,505\n",
      "Non-trainable params: 0\n",
      "_________________________________________________________________\n",
      "WARNING:tensorflow:From c:\\programdata\\anaconda3\\lib\\site-packages\\tensorflow\\python\\ops\\math_ops.py:3066: to_int32 (from tensorflow.python.ops.math_ops) is deprecated and will be removed in a future version.\n",
      "Instructions for updating:\n",
      "Use tf.cast instead.\n",
      "Train on 1000 samples, validate on 200 samples\n",
      "Epoch 1/3\n",
      " - 2s - loss: 0.6869 - acc: 0.5600 - val_loss: 0.6921 - val_acc: 0.4750\n",
      "Epoch 2/3\n",
      " - 2s - loss: 0.6531 - acc: 0.5870 - val_loss: 0.6590 - val_acc: 0.5700\n",
      "Epoch 3/3\n",
      " - 2s - loss: 0.5211 - acc: 0.8140 - val_loss: 0.6044 - val_acc: 0.6600\n",
      "dict_keys(['val_loss', 'val_acc', 'loss', 'acc'])\n"
     ]
    },
    {
     "data": {
      "image/png": "[encoded data removed]",
      "text/plain": [
       "<matplotlib.figure.Figure at 0x1ba2c65ba20>"
      ]
     },
     "metadata": {
      "needs_background": "light"
     },
     "output_type": "display_data"
    },
    {
     "data": {
      "image/png": "[encoded data removed]",
      "text/plain": [
       "<matplotlib.figure.Figure at 0x1ba2c3706d8>"
      ]
     },
     "metadata": {
      "needs_background": "light"
     },
     "output_type": "display_data"
    }
   ],
   "source": [
    "from tensorflow import keras\n",
    "#from sklearn.metrics import accuracy_score\n",
    "from build_and_train_model import *\n",
    "from load_vectorize_data import *\n"
   ]
  },
  {
   "cell_type": "markdown",
   "metadata": {},
   "source": [
    "### Logistic Regression metric:"
   ]
  },
  {
   "cell_type": "code",
   "execution_count": 3,
   "metadata": {},
   "outputs": [
    {
     "name": "stdout",
     "output_type": "stream",
     "text": [
      "Training Accuracy: 0.69\n"
     ]
    }
   ],
   "source": [
    "print(\"Training Accuracy:\", score_regression)"
   ]
  },
  {
   "cell_type": "code",
   "execution_count": 4,
   "metadata": {},
   "outputs": [
    {
     "name": "stdout",
     "output_type": "stream",
     "text": [
      "CONFUSION MATRIX :\n",
      " \n",
      "For Train Data:\n",
      "[[421  25]\n",
      " [  5 549]]\n",
      " \n",
      "For Test Data:\n",
      "[[53 52]\n",
      " [10 85]]\n"
     ]
    }
   ],
   "source": [
    "print(\"CONFUSION MATRIX :\")\n",
    "print(' ')\n",
    "print(\"For Train Data:\")\n",
    "y_train_pred_bow = model_bow.predict_classes(X_train)\n",
    "print(confusion_matrix(Y_train, y_train_pred_bow))\n",
    "print(' ')\n",
    "print(\"For Test Data:\")\n",
    "y_test_pred_bow = model_bow.predict_classes(X_test)\n",
    "print(confusion_matrix(Y_test, y_pred_regression))"
   ]
  },
  {
   "cell_type": "code",
   "execution_count": 5,
   "metadata": {},
   "outputs": [
    {
     "name": "stdout",
     "output_type": "stream",
     "text": [
      "              precision    recall  f1-score   support\n",
      "\n",
      "           0       0.84      0.50      0.63       105\n",
      "           1       0.62      0.89      0.73        95\n",
      "\n",
      "   micro avg       0.69      0.69      0.69       200\n",
      "   macro avg       0.73      0.70      0.68       200\n",
      "weighted avg       0.74      0.69      0.68       200\n",
      "\n"
     ]
    }
   ],
   "source": [
    "print(classification_report(Y_test, y_pred_regression))"
   ]
  },
  {
   "cell_type": "code",
   "execution_count": 6,
   "metadata": {},
   "outputs": [
    {
     "data": {
      "image/png": "[encoded data removed]",
      "text/plain": [
       "<matplotlib.figure.Figure at 0x1ba2c45e780>"
      ]
     },
     "metadata": {
      "needs_background": "light"
     },
     "output_type": "display_data"
    }
   ],
   "source": [
    "ax= plt.subplot()\n",
    "sns.heatmap(confusion_matrix(Y_test, y_pred_regression), annot=True, ax = ax, fmt='g'); #annot=True to annotate cells\n",
    "\n",
    "#labels, title and ticks\n",
    "ax.set_xlabel('Predicted labels');ax.set_ylabel('True labels'); \n",
    "ax.set_title('Confusion Matrix'); \n",
    "ax.xaxis.set_ticklabels(['Negative', 'Positive']); ax.yaxis.set_ticklabels(['Negative', 'Positive']);\n",
    "plt.show()"
   ]
  },
  {
   "cell_type": "markdown",
   "metadata": {},
   "source": [
    "### Keras model metric"
   ]
  },
  {
   "cell_type": "code",
   "execution_count": 7,
   "metadata": {},
   "outputs": [
    {
     "name": "stdout",
     "output_type": "stream",
     "text": [
      "Test Loss:  0.604431939125061\n",
      "Test Accuracy 0.66\n"
     ]
    }
   ],
   "source": [
    "score = model_bow.evaluate(X_test, Y_test, verbose=3)\n",
    "print('Test Loss: ', score[0])\n",
    "print('Test Accuracy', score[1])"
   ]
  },
  {
   "cell_type": "code",
   "execution_count": 8,
   "metadata": {
    "scrolled": true
   },
   "outputs": [
    {
     "name": "stdout",
     "output_type": "stream",
     "text": [
      "CONFUSION MATRIX :\n",
      " \n",
      "For Train Data:\n",
      "[[421  25]\n",
      " [  5 549]]\n",
      " \n",
      "For Test Data:\n",
      "[[46 59]\n",
      " [ 9 86]]\n"
     ]
    }
   ],
   "source": [
    "from sklearn.metrics import confusion_matrix\n",
    "print(\"CONFUSION MATRIX :\")\n",
    "print(' ')\n",
    "print(\"For Train Data:\")\n",
    "y_train_pred_bow = model_bow.predict_classes(X_train)\n",
    "print(confusion_matrix(Y_train, y_train_pred_bow))\n",
    "print(' ')\n",
    "print(\"For Test Data:\")\n",
    "y_test_pred_bow = model_bow.predict_classes(X_test)\n",
    "print(confusion_matrix(Y_test, y_test_pred_bow))"
   ]
  },
  {
   "cell_type": "code",
   "execution_count": 9,
   "metadata": {},
   "outputs": [
    {
     "data": {
      "image/png": "[encoded data removed]",
      "text/plain": [
       "<matplotlib.figure.Figure at 0x1ba2c4fcc18>"
      ]
     },
     "metadata": {
      "needs_background": "light"
     },
     "output_type": "display_data"
    }
   ],
   "source": [
    "ax= plt.subplot()\n",
    "sns.heatmap(confusion_matrix(Y_test, y_test_pred_bow), annot=True, ax = ax, fmt='g'); #annot=True to annotate cells\n",
    "\n",
    "# labels, title and ticks\n",
    "ax.set_xlabel('Predicted labels');ax.set_ylabel('True labels'); \n",
    "ax.set_title('Confusion Matrix'); \n",
    "ax.xaxis.set_ticklabels(['Negative', 'Positive']); ax.yaxis.set_ticklabels(['Negative', 'Positive']);\n",
    "plt.show()"
   ]
  },
  {
   "cell_type": "code",
   "execution_count": 10,
   "metadata": {},
   "outputs": [
    {
     "name": "stdout",
     "output_type": "stream",
     "text": [
      "              precision    recall  f1-score   support\n",
      "\n",
      "           0       0.84      0.44      0.58       105\n",
      "           1       0.59      0.91      0.72        95\n",
      "\n",
      "   micro avg       0.66      0.66      0.66       200\n",
      "   macro avg       0.71      0.67      0.65       200\n",
      "weighted avg       0.72      0.66      0.64       200\n",
      "\n"
     ]
    }
   ],
   "source": [
    "print(classification_report(Y_test, y_test_pred_bow))"
   ]
  },
  {
   "cell_type": "code",
   "execution_count": 11,
   "metadata": {},
   "outputs": [
    {
     "data": {
      "image/png": "[encoded data removed]",
      "text/plain": [
       "<matplotlib.figure.Figure at 0x1ba1ebacda0>"
      ]
     },
     "metadata": {
      "needs_background": "light"
     },
     "output_type": "display_data"
    }
   ],
   "source": [
    "from sklearn.metrics import roc_curve\n",
    "import matplotlib.pyplot as plt\n",
    "%matplotlib inline\n",
    "\n",
    "fpr, tpr, thresholds = roc_curve(Y_test, y_test_pred_bow)\n",
    "\n",
    "# create plot\n",
    "plt.plot(fpr, tpr, label='ROC curve')\n",
    "plt.plot([0, 1], [0, 1], 'k--', label='Random guess')\n",
    "_ = plt.xlabel('False Positive Rate')\n",
    "_ = plt.ylabel('True Positive Rate')\n",
    "_ = plt.title('ROC Curve')\n",
    "_ = plt.xlim([-0.02, 1])\n",
    "_ = plt.ylim([0, 1.02])\n",
    "_ = plt.legend(loc=\"lower right\")"
   ]
  },
  {
   "cell_type": "code",
   "execution_count": 12,
   "metadata": {},
   "outputs": [
    {
     "data": {
      "text/plain": [
       "0.6716791979949875"
      ]
     },
     "execution_count": 12,
     "metadata": {},
     "output_type": "execute_result"
    }
   ],
   "source": [
    "from sklearn.metrics import roc_auc_score\n",
    "\n",
    "roc_auc_score(Y_test, y_test_pred_bow)"
   ]
  },
  {
   "cell_type": "code",
   "execution_count": 13,
   "metadata": {},
   "outputs": [
    {
     "data": {
      "image/png": "[encoded data removed]",
      "text/plain": [
       "<matplotlib.figure.Figure at 0x1ba2c69bc18>"
      ]
     },
     "metadata": {
      "needs_background": "light"
     },
     "output_type": "display_data"
    }
   ],
   "source": [
    "from sklearn.metrics import precision_recall_curve \n",
    "\n",
    "precision, recall, thresholds = precision_recall_curve(Y_test, y_test_pred_bow)\n",
    "\n",
    "# create plot\n",
    "plt.plot(precision, recall, label='Precision-recall curve')\n",
    "_ = plt.xlabel('Precision')\n",
    "_ = plt.ylabel('Recall')\n",
    "_ = plt.title('Precision-recall curve')\n",
    "_ = plt.legend(loc=\"lower left\")"
   ]
  },
  {
   "cell_type": "code",
   "execution_count": 14,
   "metadata": {},
   "outputs": [
    {
     "data": {
      "text/plain": [
       "0.5819147005444645"
      ]
     },
     "execution_count": 14,
     "metadata": {},
     "output_type": "execute_result"
    }
   ],
   "source": [
    "from sklearn.metrics import average_precision_score\n",
    "\n",
    "average_precision_score(Y_test, y_test_pred_bow)"
   ]
  },
  {
   "cell_type": "code",
   "execution_count": null,
   "metadata": {},
   "outputs": [],
   "source": []
  }
 ],
 "metadata": {
  "kernelspec": {
   "display_name": "Python 3",
   "language": "python",
   "name": "python3"
  },
  "language_info": {
   "codemirror_mode": {
    "name": "ipython",
    "version": 3
   },
   "file_extension": ".py",
   "mimetype": "text/x-python",
   "name": "python",
   "nbconvert_exporter": "python",
   "pygments_lexer": "ipython3",
   "version": "3.6.4"
  }
 },
 "nbformat": 4,
 "nbformat_minor": 2
}
